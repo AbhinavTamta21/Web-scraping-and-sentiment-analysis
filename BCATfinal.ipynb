{
  "nbformat": 4,
  "nbformat_minor": 0,
  "metadata": {
    "colab": {
      "provenance": []
    },
    "kernelspec": {
      "name": "python3",
      "display_name": "Python 3"
    },
    "language_info": {
      "name": "python"
    }
  },
  "cells": [
    {
      "cell_type": "markdown",
      "source": [
        "**Web crawling using Beautiful soup ,sentiment analysis and readability analysis.**"
      ],
      "metadata": {
        "id": "dLm0VPieilBm"
      }
    },
    {
      "cell_type": "markdown",
      "source": [
        "Mounting the google drive."
      ],
      "metadata": {
        "id": "F5OAkiFUlTzn"
      }
    },
    {
      "cell_type": "code",
      "source": [
        "from google.colab import drive\n",
        "drive.flush_and_unmount()\n"
      ],
      "metadata": {
        "colab": {
          "base_uri": "https://localhost:8080/"
        },
        "id": "9hSh7AVCVs_L",
        "outputId": "9fffa52a-be1b-42ee-be31-8a55b61f775f"
      },
      "execution_count": null,
      "outputs": [
        {
          "output_type": "stream",
          "name": "stdout",
          "text": [
            "Drive not mounted, so nothing to flush and unmount.\n"
          ]
        }
      ]
    },
    {
      "cell_type": "code",
      "source": [
        "from google.colab import drive\n",
        "drive.mount('/content/drive')"
      ],
      "metadata": {
        "id": "aIndorLzt4JN",
        "colab": {
          "base_uri": "https://localhost:8080/"
        },
        "outputId": "63316590-6b82-466a-eaec-78445f4e650a"
      },
      "execution_count": null,
      "outputs": [
        {
          "output_type": "stream",
          "name": "stdout",
          "text": [
            "Mounted at /content/drive2\n"
          ]
        }
      ]
    },
    {
      "cell_type": "markdown",
      "source": [
        "\n",
        "\n",
        "---\n",
        "\n",
        "\n",
        "**Web crawling using Beautifulsoup on Input.xlsx url-ids.**"
      ],
      "metadata": {
        "id": "ISmBc2-Ziyt0"
      }
    },
    {
      "cell_type": "code",
      "source": [
        "# Import required libraries\n",
        "import pandas as pd\n",
        "import requests\n",
        "from bs4 import BeautifulSoup\n",
        "from google.colab import drive\n",
        "import os\n",
        "\n",
        "# Mount the Google Drive to save the output files\n",
        "#drive.mount('/content/drive')\n",
        "\n",
        "# Read the input Excel file\n",
        "input_file = pd.read_excel('/content/drive/MyDrive/Input.xlsx')\n",
        "\n",
        "# Define the output directory\n",
        "output_dir = '/content/drive/MyDrive/URL_ID'\n",
        "\n",
        "# Create the output directory if it does not exist\n",
        "if not os.path.exists(output_dir):\n",
        "    os.makedirs(output_dir)\n",
        "\n",
        "# Loop through each URL and extract the article text\n",
        "for index, row in input_file.iterrows():\n",
        "    URL_ID = row['URL_ID']\n",
        "    URL = row['URL']\n",
        "    \n",
        "    # Make a request to get the HTML content of the webpage\n",
        "    response = requests.get(URL)\n",
        "    soup = BeautifulSoup(response.content, 'html.parser')\n",
        "    \n",
        "    # Extract the article title and text from the HTML content\n",
        "    title_tag = soup.find('title')  # find the title tag\n",
        "    article_title = title_tag.string if title_tag else ''  # get the text inside the title tag, or set to empty string if title tag not found\n",
        "\n",
        "    article_text = ''\n",
        "    for paragraph in soup.find_all('p'):\n",
        "        article_text += paragraph.get_text() + '\\n'\n",
        "    \n",
        "    # Save the extracted article text to a text file\n",
        "    output_file_path = os.path.join(output_dir, '{}.txt'.format(URL_ID))\n",
        "    output_file = open(output_file_path, 'w')\n",
        "    output_file.write(article_title + '\\n' + article_text)\n",
        "    output_file.close()\n"
      ],
      "metadata": {
        "id": "rej20zCcj3Dk"
      },
      "execution_count": null,
      "outputs": []
    },
    {
      "cell_type": "markdown",
      "source": [
        "\n",
        "\n",
        "---\n",
        "\n",
        "\n",
        "Stop words removal from the txt files and storing them inside google drive  in URL_ID2 folder.\n",
        "\n",
        "\n",
        "\n",
        "\n",
        "\n"
      ],
      "metadata": {
        "id": "cZEiHYQxEU44"
      }
    },
    {
      "cell_type": "code",
      "source": [
        "import os\n",
        "\n",
        "# Define paths to input and output folders\n",
        "URL_ID_path = '/content/drive/MyDrive/URL_ID'\n",
        "stopwords_path = '/content/drive/MyDrive/BlackCOffer/StopWords'\n",
        "filtered_path = '/content/drive/MyDrive/URL_ID2'\n",
        "\n",
        "# Create the Filtered folder if it does not exist\n",
        "if not os.path.exists(filtered_path):\n",
        "    os.makedirs(filtered_path)\n",
        "\n",
        "# Loop through each file in the URL_ID folder\n",
        "for filename in os.listdir(URL_ID_path):\n",
        "    if filename.endswith('.txt'):\n",
        "        # Read the content of the file\n",
        "        with open(os.path.join(URL_ID_path, filename), 'r') as file:\n",
        "            text = file.read()\n",
        "        \n",
        "        # Remove stop words from the text\n",
        "        stop_words = set()\n",
        "        for filename in os.listdir(stopwords_path):\n",
        "            if filename.endswith('.txt'):\n",
        "                with open(os.path.join(stopwords_path, filename), encoding='utf-8') as file:\n",
        "                    stop_words.update(file.read().splitlines())\n",
        "        filtered_text = ' '.join([word for word in text.split() if word.lower() not in stop_words])\n",
        "        \n",
        "        # Save the filtered text to a new file in the Filtered folder\n",
        "        with open(os.path.join(filtered_path, filename), 'w') as file:\n",
        "            file.write(filtered_text)\n"
      ],
      "metadata": {
        "id": "YinqinjH-LOi"
      },
      "execution_count": null,
      "outputs": []
    },
    {
      "cell_type": "markdown",
      "source": [
        "\n",
        "\n",
        "---\n",
        "\n",
        "**Performing sentiment analysis on it.**"
      ],
      "metadata": {
        "id": "Of5F-zp0jeq4"
      }
    },
    {
      "cell_type": "code",
      "source": [
        "import os\n",
        "import pandas as pd\n",
        "from nltk.tokenize import word_tokenize\n",
        "\n",
        "# Define paths for files and folders\n",
        "stopwords_path = '/content/drive/MyDrive/BlackCOffer/StopWords'\n",
        "positive_words_path = '/content/drive/MyDrive/BlackCOffer/MasterDictionary/positive-words.txt'\n",
        "negative_words_path = '/content/drive/MyDrive/BlackCOffer/MasterDictionary/negative-words.txt'\n",
        "input_folder_path = '/content/drive/MyDrive/URL_ID2'\n",
        "output_folder_path = '/content/drive/MyDrive/Output'\n",
        "\n",
        "# Create a set of stop words\n",
        "stop_words = set()\n",
        "for filename in os.listdir(stopwords_path):\n",
        "    if filename.endswith('.txt'):\n",
        "        with open(os.path.join(stopwords_path, filename), encoding='utf-8') as file:\n",
        "            stop_words.update(file.read().splitlines())\n",
        "\n",
        "# Create a dictionary of positive and negative words\n",
        "positive_words = set()\n",
        "with open(positive_words_path, encoding='utf-8') as file:\n",
        "    for word in file.read().splitlines():\n",
        "        if word.lower() not in stop_words:\n",
        "            positive_words.add(word.lower())\n",
        "\n",
        "negative_words = set()\n",
        "with open(negative_words_path, encoding='utf-8') as file:\n",
        "    for word in file.read().splitlines():\n",
        "        if word.lower() not in stop_words:\n",
        "            negative_words.add(word.lower())\n",
        "\n",
        "# Create a DataFrame to store the results\n",
        "columns = ['Filename', 'Positive Score', 'Negative Score', 'Polarity Score', 'Subjectivity Score']\n",
        "results = pd.DataFrame(columns=columns)\n",
        "\n",
        "# Loop through each file in the input folder\n",
        "for filename in os.listdir(input_folder_path):\n",
        "    if filename.endswith('.txt'):\n",
        "        # Read the text from the file\n",
        "        with open(os.path.join(input_folder_path, filename), encoding='utf-8') as file:\n",
        "            text = file.read()\n",
        "        \n",
        "        # Tokenize the text and remove stop words\n",
        "        tokens = [word.lower() for word in word_tokenize(text) if word.lower() not in stop_words]\n",
        "        \n",
        "        # Calculate the positive and negative scores\n",
        "        positive_score = sum([1 for token in tokens if token in positive_words])\n",
        "        negative_score = -1 * sum([-1 for token in tokens if token in negative_words])\n",
        "        \n",
        "        # Calculate the polarity and subjectivity scores\n",
        "        total_words = len(tokens)\n",
        "        polarity_score = (positive_score - negative_score) / ((positive_score + negative_score) + 0.000001)\n",
        "        subjectivity_score = (positive_score + negative_score) / (total_words + 0.000001)\n",
        "        \n",
        "        # Add the results to the DataFrame\n",
        "        results = results.append({\n",
        "            'Filename': filename,\n",
        "            'Positive Score': positive_score,\n",
        "            'Negative Score': negative_score,\n",
        "            'Polarity Score': polarity_score,\n",
        "            'Subjectivity Score': subjectivity_score\n",
        "        }, ignore_index=True)\n",
        "\n",
        "        # Save the filtered text to a new file in the Output folder\n",
        "        filtered_text = ' '.join(tokens)\n",
        "        with open(os.path.join(output_folder_path, filename), 'w', encoding='utf-8') as file:\n",
        "            file.write(filtered_text)\n",
        "\n",
        "# Save the results to a CSV file\n",
        "results.to_csv('/content/drive/MyDrive/Results.csv', index=False)\n"
      ],
      "metadata": {
        "colab": {
          "base_uri": "https://localhost:8080/"
        },
        "id": "Iey4j6DqEUDm",
        "outputId": "bfac6e3e-f4fc-4d8a-bf2f-a7a983927889"
      },
      "execution_count": null,
      "outputs": [
        {
          "output_type": "stream",
          "name": "stderr",
          "text": [
            "<ipython-input-14-226929456054>:56: FutureWarning: The frame.append method is deprecated and will be removed from pandas in a future version. Use pandas.concat instead.\n",
            "  results = results.append({\n",
            "<ipython-input-14-226929456054>:56: FutureWarning: The frame.append method is deprecated and will be removed from pandas in a future version. Use pandas.concat instead.\n",
            "  results = results.append({\n",
            "<ipython-input-14-226929456054>:56: FutureWarning: The frame.append method is deprecated and will be removed from pandas in a future version. Use pandas.concat instead.\n",
            "  results = results.append({\n",
            "<ipython-input-14-226929456054>:56: FutureWarning: The frame.append method is deprecated and will be removed from pandas in a future version. Use pandas.concat instead.\n",
            "  results = results.append({\n",
            "<ipython-input-14-226929456054>:56: FutureWarning: The frame.append method is deprecated and will be removed from pandas in a future version. Use pandas.concat instead.\n",
            "  results = results.append({\n",
            "<ipython-input-14-226929456054>:56: FutureWarning: The frame.append method is deprecated and will be removed from pandas in a future version. Use pandas.concat instead.\n",
            "  results = results.append({\n",
            "<ipython-input-14-226929456054>:56: FutureWarning: The frame.append method is deprecated and will be removed from pandas in a future version. Use pandas.concat instead.\n",
            "  results = results.append({\n",
            "<ipython-input-14-226929456054>:56: FutureWarning: The frame.append method is deprecated and will be removed from pandas in a future version. Use pandas.concat instead.\n",
            "  results = results.append({\n",
            "<ipython-input-14-226929456054>:56: FutureWarning: The frame.append method is deprecated and will be removed from pandas in a future version. Use pandas.concat instead.\n",
            "  results = results.append({\n",
            "<ipython-input-14-226929456054>:56: FutureWarning: The frame.append method is deprecated and will be removed from pandas in a future version. Use pandas.concat instead.\n",
            "  results = results.append({\n",
            "<ipython-input-14-226929456054>:56: FutureWarning: The frame.append method is deprecated and will be removed from pandas in a future version. Use pandas.concat instead.\n",
            "  results = results.append({\n",
            "<ipython-input-14-226929456054>:56: FutureWarning: The frame.append method is deprecated and will be removed from pandas in a future version. Use pandas.concat instead.\n",
            "  results = results.append({\n",
            "<ipython-input-14-226929456054>:56: FutureWarning: The frame.append method is deprecated and will be removed from pandas in a future version. Use pandas.concat instead.\n",
            "  results = results.append({\n",
            "<ipython-input-14-226929456054>:56: FutureWarning: The frame.append method is deprecated and will be removed from pandas in a future version. Use pandas.concat instead.\n",
            "  results = results.append({\n",
            "<ipython-input-14-226929456054>:56: FutureWarning: The frame.append method is deprecated and will be removed from pandas in a future version. Use pandas.concat instead.\n",
            "  results = results.append({\n",
            "<ipython-input-14-226929456054>:56: FutureWarning: The frame.append method is deprecated and will be removed from pandas in a future version. Use pandas.concat instead.\n",
            "  results = results.append({\n",
            "<ipython-input-14-226929456054>:56: FutureWarning: The frame.append method is deprecated and will be removed from pandas in a future version. Use pandas.concat instead.\n",
            "  results = results.append({\n",
            "<ipython-input-14-226929456054>:56: FutureWarning: The frame.append method is deprecated and will be removed from pandas in a future version. Use pandas.concat instead.\n",
            "  results = results.append({\n",
            "<ipython-input-14-226929456054>:56: FutureWarning: The frame.append method is deprecated and will be removed from pandas in a future version. Use pandas.concat instead.\n",
            "  results = results.append({\n",
            "<ipython-input-14-226929456054>:56: FutureWarning: The frame.append method is deprecated and will be removed from pandas in a future version. Use pandas.concat instead.\n",
            "  results = results.append({\n",
            "<ipython-input-14-226929456054>:56: FutureWarning: The frame.append method is deprecated and will be removed from pandas in a future version. Use pandas.concat instead.\n",
            "  results = results.append({\n",
            "<ipython-input-14-226929456054>:56: FutureWarning: The frame.append method is deprecated and will be removed from pandas in a future version. Use pandas.concat instead.\n",
            "  results = results.append({\n",
            "<ipython-input-14-226929456054>:56: FutureWarning: The frame.append method is deprecated and will be removed from pandas in a future version. Use pandas.concat instead.\n",
            "  results = results.append({\n",
            "<ipython-input-14-226929456054>:56: FutureWarning: The frame.append method is deprecated and will be removed from pandas in a future version. Use pandas.concat instead.\n",
            "  results = results.append({\n",
            "<ipython-input-14-226929456054>:56: FutureWarning: The frame.append method is deprecated and will be removed from pandas in a future version. Use pandas.concat instead.\n",
            "  results = results.append({\n",
            "<ipython-input-14-226929456054>:56: FutureWarning: The frame.append method is deprecated and will be removed from pandas in a future version. Use pandas.concat instead.\n",
            "  results = results.append({\n",
            "<ipython-input-14-226929456054>:56: FutureWarning: The frame.append method is deprecated and will be removed from pandas in a future version. Use pandas.concat instead.\n",
            "  results = results.append({\n",
            "<ipython-input-14-226929456054>:56: FutureWarning: The frame.append method is deprecated and will be removed from pandas in a future version. Use pandas.concat instead.\n",
            "  results = results.append({\n",
            "<ipython-input-14-226929456054>:56: FutureWarning: The frame.append method is deprecated and will be removed from pandas in a future version. Use pandas.concat instead.\n",
            "  results = results.append({\n",
            "<ipython-input-14-226929456054>:56: FutureWarning: The frame.append method is deprecated and will be removed from pandas in a future version. Use pandas.concat instead.\n",
            "  results = results.append({\n",
            "<ipython-input-14-226929456054>:56: FutureWarning: The frame.append method is deprecated and will be removed from pandas in a future version. Use pandas.concat instead.\n",
            "  results = results.append({\n",
            "<ipython-input-14-226929456054>:56: FutureWarning: The frame.append method is deprecated and will be removed from pandas in a future version. Use pandas.concat instead.\n",
            "  results = results.append({\n",
            "<ipython-input-14-226929456054>:56: FutureWarning: The frame.append method is deprecated and will be removed from pandas in a future version. Use pandas.concat instead.\n",
            "  results = results.append({\n",
            "<ipython-input-14-226929456054>:56: FutureWarning: The frame.append method is deprecated and will be removed from pandas in a future version. Use pandas.concat instead.\n",
            "  results = results.append({\n",
            "<ipython-input-14-226929456054>:56: FutureWarning: The frame.append method is deprecated and will be removed from pandas in a future version. Use pandas.concat instead.\n",
            "  results = results.append({\n",
            "<ipython-input-14-226929456054>:56: FutureWarning: The frame.append method is deprecated and will be removed from pandas in a future version. Use pandas.concat instead.\n",
            "  results = results.append({\n",
            "<ipython-input-14-226929456054>:56: FutureWarning: The frame.append method is deprecated and will be removed from pandas in a future version. Use pandas.concat instead.\n",
            "  results = results.append({\n",
            "<ipython-input-14-226929456054>:56: FutureWarning: The frame.append method is deprecated and will be removed from pandas in a future version. Use pandas.concat instead.\n",
            "  results = results.append({\n",
            "<ipython-input-14-226929456054>:56: FutureWarning: The frame.append method is deprecated and will be removed from pandas in a future version. Use pandas.concat instead.\n",
            "  results = results.append({\n",
            "<ipython-input-14-226929456054>:56: FutureWarning: The frame.append method is deprecated and will be removed from pandas in a future version. Use pandas.concat instead.\n",
            "  results = results.append({\n",
            "<ipython-input-14-226929456054>:56: FutureWarning: The frame.append method is deprecated and will be removed from pandas in a future version. Use pandas.concat instead.\n",
            "  results = results.append({\n",
            "<ipython-input-14-226929456054>:56: FutureWarning: The frame.append method is deprecated and will be removed from pandas in a future version. Use pandas.concat instead.\n",
            "  results = results.append({\n",
            "<ipython-input-14-226929456054>:56: FutureWarning: The frame.append method is deprecated and will be removed from pandas in a future version. Use pandas.concat instead.\n",
            "  results = results.append({\n",
            "<ipython-input-14-226929456054>:56: FutureWarning: The frame.append method is deprecated and will be removed from pandas in a future version. Use pandas.concat instead.\n",
            "  results = results.append({\n",
            "<ipython-input-14-226929456054>:56: FutureWarning: The frame.append method is deprecated and will be removed from pandas in a future version. Use pandas.concat instead.\n",
            "  results = results.append({\n",
            "<ipython-input-14-226929456054>:56: FutureWarning: The frame.append method is deprecated and will be removed from pandas in a future version. Use pandas.concat instead.\n",
            "  results = results.append({\n",
            "<ipython-input-14-226929456054>:56: FutureWarning: The frame.append method is deprecated and will be removed from pandas in a future version. Use pandas.concat instead.\n",
            "  results = results.append({\n",
            "<ipython-input-14-226929456054>:56: FutureWarning: The frame.append method is deprecated and will be removed from pandas in a future version. Use pandas.concat instead.\n",
            "  results = results.append({\n",
            "<ipython-input-14-226929456054>:56: FutureWarning: The frame.append method is deprecated and will be removed from pandas in a future version. Use pandas.concat instead.\n",
            "  results = results.append({\n",
            "<ipython-input-14-226929456054>:56: FutureWarning: The frame.append method is deprecated and will be removed from pandas in a future version. Use pandas.concat instead.\n",
            "  results = results.append({\n",
            "<ipython-input-14-226929456054>:56: FutureWarning: The frame.append method is deprecated and will be removed from pandas in a future version. Use pandas.concat instead.\n",
            "  results = results.append({\n",
            "<ipython-input-14-226929456054>:56: FutureWarning: The frame.append method is deprecated and will be removed from pandas in a future version. Use pandas.concat instead.\n",
            "  results = results.append({\n",
            "<ipython-input-14-226929456054>:56: FutureWarning: The frame.append method is deprecated and will be removed from pandas in a future version. Use pandas.concat instead.\n",
            "  results = results.append({\n",
            "<ipython-input-14-226929456054>:56: FutureWarning: The frame.append method is deprecated and will be removed from pandas in a future version. Use pandas.concat instead.\n",
            "  results = results.append({\n",
            "<ipython-input-14-226929456054>:56: FutureWarning: The frame.append method is deprecated and will be removed from pandas in a future version. Use pandas.concat instead.\n",
            "  results = results.append({\n",
            "<ipython-input-14-226929456054>:56: FutureWarning: The frame.append method is deprecated and will be removed from pandas in a future version. Use pandas.concat instead.\n",
            "  results = results.append({\n",
            "<ipython-input-14-226929456054>:56: FutureWarning: The frame.append method is deprecated and will be removed from pandas in a future version. Use pandas.concat instead.\n",
            "  results = results.append({\n",
            "<ipython-input-14-226929456054>:56: FutureWarning: The frame.append method is deprecated and will be removed from pandas in a future version. Use pandas.concat instead.\n",
            "  results = results.append({\n",
            "<ipython-input-14-226929456054>:56: FutureWarning: The frame.append method is deprecated and will be removed from pandas in a future version. Use pandas.concat instead.\n",
            "  results = results.append({\n",
            "<ipython-input-14-226929456054>:56: FutureWarning: The frame.append method is deprecated and will be removed from pandas in a future version. Use pandas.concat instead.\n",
            "  results = results.append({\n",
            "<ipython-input-14-226929456054>:56: FutureWarning: The frame.append method is deprecated and will be removed from pandas in a future version. Use pandas.concat instead.\n",
            "  results = results.append({\n",
            "<ipython-input-14-226929456054>:56: FutureWarning: The frame.append method is deprecated and will be removed from pandas in a future version. Use pandas.concat instead.\n",
            "  results = results.append({\n",
            "<ipython-input-14-226929456054>:56: FutureWarning: The frame.append method is deprecated and will be removed from pandas in a future version. Use pandas.concat instead.\n",
            "  results = results.append({\n",
            "<ipython-input-14-226929456054>:56: FutureWarning: The frame.append method is deprecated and will be removed from pandas in a future version. Use pandas.concat instead.\n",
            "  results = results.append({\n",
            "<ipython-input-14-226929456054>:56: FutureWarning: The frame.append method is deprecated and will be removed from pandas in a future version. Use pandas.concat instead.\n",
            "  results = results.append({\n",
            "<ipython-input-14-226929456054>:56: FutureWarning: The frame.append method is deprecated and will be removed from pandas in a future version. Use pandas.concat instead.\n",
            "  results = results.append({\n",
            "<ipython-input-14-226929456054>:56: FutureWarning: The frame.append method is deprecated and will be removed from pandas in a future version. Use pandas.concat instead.\n",
            "  results = results.append({\n",
            "<ipython-input-14-226929456054>:56: FutureWarning: The frame.append method is deprecated and will be removed from pandas in a future version. Use pandas.concat instead.\n",
            "  results = results.append({\n",
            "<ipython-input-14-226929456054>:56: FutureWarning: The frame.append method is deprecated and will be removed from pandas in a future version. Use pandas.concat instead.\n",
            "  results = results.append({\n",
            "<ipython-input-14-226929456054>:56: FutureWarning: The frame.append method is deprecated and will be removed from pandas in a future version. Use pandas.concat instead.\n",
            "  results = results.append({\n",
            "<ipython-input-14-226929456054>:56: FutureWarning: The frame.append method is deprecated and will be removed from pandas in a future version. Use pandas.concat instead.\n",
            "  results = results.append({\n",
            "<ipython-input-14-226929456054>:56: FutureWarning: The frame.append method is deprecated and will be removed from pandas in a future version. Use pandas.concat instead.\n",
            "  results = results.append({\n",
            "<ipython-input-14-226929456054>:56: FutureWarning: The frame.append method is deprecated and will be removed from pandas in a future version. Use pandas.concat instead.\n",
            "  results = results.append({\n",
            "<ipython-input-14-226929456054>:56: FutureWarning: The frame.append method is deprecated and will be removed from pandas in a future version. Use pandas.concat instead.\n",
            "  results = results.append({\n",
            "<ipython-input-14-226929456054>:56: FutureWarning: The frame.append method is deprecated and will be removed from pandas in a future version. Use pandas.concat instead.\n",
            "  results = results.append({\n",
            "<ipython-input-14-226929456054>:56: FutureWarning: The frame.append method is deprecated and will be removed from pandas in a future version. Use pandas.concat instead.\n",
            "  results = results.append({\n",
            "<ipython-input-14-226929456054>:56: FutureWarning: The frame.append method is deprecated and will be removed from pandas in a future version. Use pandas.concat instead.\n",
            "  results = results.append({\n",
            "<ipython-input-14-226929456054>:56: FutureWarning: The frame.append method is deprecated and will be removed from pandas in a future version. Use pandas.concat instead.\n",
            "  results = results.append({\n",
            "<ipython-input-14-226929456054>:56: FutureWarning: The frame.append method is deprecated and will be removed from pandas in a future version. Use pandas.concat instead.\n",
            "  results = results.append({\n",
            "<ipython-input-14-226929456054>:56: FutureWarning: The frame.append method is deprecated and will be removed from pandas in a future version. Use pandas.concat instead.\n",
            "  results = results.append({\n",
            "<ipython-input-14-226929456054>:56: FutureWarning: The frame.append method is deprecated and will be removed from pandas in a future version. Use pandas.concat instead.\n",
            "  results = results.append({\n",
            "<ipython-input-14-226929456054>:56: FutureWarning: The frame.append method is deprecated and will be removed from pandas in a future version. Use pandas.concat instead.\n",
            "  results = results.append({\n",
            "<ipython-input-14-226929456054>:56: FutureWarning: The frame.append method is deprecated and will be removed from pandas in a future version. Use pandas.concat instead.\n",
            "  results = results.append({\n",
            "<ipython-input-14-226929456054>:56: FutureWarning: The frame.append method is deprecated and will be removed from pandas in a future version. Use pandas.concat instead.\n",
            "  results = results.append({\n",
            "<ipython-input-14-226929456054>:56: FutureWarning: The frame.append method is deprecated and will be removed from pandas in a future version. Use pandas.concat instead.\n",
            "  results = results.append({\n",
            "<ipython-input-14-226929456054>:56: FutureWarning: The frame.append method is deprecated and will be removed from pandas in a future version. Use pandas.concat instead.\n",
            "  results = results.append({\n",
            "<ipython-input-14-226929456054>:56: FutureWarning: The frame.append method is deprecated and will be removed from pandas in a future version. Use pandas.concat instead.\n",
            "  results = results.append({\n",
            "<ipython-input-14-226929456054>:56: FutureWarning: The frame.append method is deprecated and will be removed from pandas in a future version. Use pandas.concat instead.\n",
            "  results = results.append({\n",
            "<ipython-input-14-226929456054>:56: FutureWarning: The frame.append method is deprecated and will be removed from pandas in a future version. Use pandas.concat instead.\n",
            "  results = results.append({\n",
            "<ipython-input-14-226929456054>:56: FutureWarning: The frame.append method is deprecated and will be removed from pandas in a future version. Use pandas.concat instead.\n",
            "  results = results.append({\n",
            "<ipython-input-14-226929456054>:56: FutureWarning: The frame.append method is deprecated and will be removed from pandas in a future version. Use pandas.concat instead.\n",
            "  results = results.append({\n",
            "<ipython-input-14-226929456054>:56: FutureWarning: The frame.append method is deprecated and will be removed from pandas in a future version. Use pandas.concat instead.\n",
            "  results = results.append({\n",
            "<ipython-input-14-226929456054>:56: FutureWarning: The frame.append method is deprecated and will be removed from pandas in a future version. Use pandas.concat instead.\n",
            "  results = results.append({\n",
            "<ipython-input-14-226929456054>:56: FutureWarning: The frame.append method is deprecated and will be removed from pandas in a future version. Use pandas.concat instead.\n",
            "  results = results.append({\n",
            "<ipython-input-14-226929456054>:56: FutureWarning: The frame.append method is deprecated and will be removed from pandas in a future version. Use pandas.concat instead.\n",
            "  results = results.append({\n",
            "<ipython-input-14-226929456054>:56: FutureWarning: The frame.append method is deprecated and will be removed from pandas in a future version. Use pandas.concat instead.\n",
            "  results = results.append({\n",
            "<ipython-input-14-226929456054>:56: FutureWarning: The frame.append method is deprecated and will be removed from pandas in a future version. Use pandas.concat instead.\n",
            "  results = results.append({\n",
            "<ipython-input-14-226929456054>:56: FutureWarning: The frame.append method is deprecated and will be removed from pandas in a future version. Use pandas.concat instead.\n",
            "  results = results.append({\n",
            "<ipython-input-14-226929456054>:56: FutureWarning: The frame.append method is deprecated and will be removed from pandas in a future version. Use pandas.concat instead.\n",
            "  results = results.append({\n",
            "<ipython-input-14-226929456054>:56: FutureWarning: The frame.append method is deprecated and will be removed from pandas in a future version. Use pandas.concat instead.\n",
            "  results = results.append({\n",
            "<ipython-input-14-226929456054>:56: FutureWarning: The frame.append method is deprecated and will be removed from pandas in a future version. Use pandas.concat instead.\n",
            "  results = results.append({\n",
            "<ipython-input-14-226929456054>:56: FutureWarning: The frame.append method is deprecated and will be removed from pandas in a future version. Use pandas.concat instead.\n",
            "  results = results.append({\n",
            "<ipython-input-14-226929456054>:56: FutureWarning: The frame.append method is deprecated and will be removed from pandas in a future version. Use pandas.concat instead.\n",
            "  results = results.append({\n",
            "<ipython-input-14-226929456054>:56: FutureWarning: The frame.append method is deprecated and will be removed from pandas in a future version. Use pandas.concat instead.\n",
            "  results = results.append({\n",
            "<ipython-input-14-226929456054>:56: FutureWarning: The frame.append method is deprecated and will be removed from pandas in a future version. Use pandas.concat instead.\n",
            "  results = results.append({\n",
            "<ipython-input-14-226929456054>:56: FutureWarning: The frame.append method is deprecated and will be removed from pandas in a future version. Use pandas.concat instead.\n",
            "  results = results.append({\n",
            "<ipython-input-14-226929456054>:56: FutureWarning: The frame.append method is deprecated and will be removed from pandas in a future version. Use pandas.concat instead.\n",
            "  results = results.append({\n",
            "<ipython-input-14-226929456054>:56: FutureWarning: The frame.append method is deprecated and will be removed from pandas in a future version. Use pandas.concat instead.\n",
            "  results = results.append({\n",
            "<ipython-input-14-226929456054>:56: FutureWarning: The frame.append method is deprecated and will be removed from pandas in a future version. Use pandas.concat instead.\n",
            "  results = results.append({\n",
            "<ipython-input-14-226929456054>:56: FutureWarning: The frame.append method is deprecated and will be removed from pandas in a future version. Use pandas.concat instead.\n",
            "  results = results.append({\n",
            "<ipython-input-14-226929456054>:56: FutureWarning: The frame.append method is deprecated and will be removed from pandas in a future version. Use pandas.concat instead.\n",
            "  results = results.append({\n",
            "<ipython-input-14-226929456054>:56: FutureWarning: The frame.append method is deprecated and will be removed from pandas in a future version. Use pandas.concat instead.\n",
            "  results = results.append({\n",
            "<ipython-input-14-226929456054>:56: FutureWarning: The frame.append method is deprecated and will be removed from pandas in a future version. Use pandas.concat instead.\n",
            "  results = results.append({\n",
            "<ipython-input-14-226929456054>:56: FutureWarning: The frame.append method is deprecated and will be removed from pandas in a future version. Use pandas.concat instead.\n",
            "  results = results.append({\n",
            "<ipython-input-14-226929456054>:56: FutureWarning: The frame.append method is deprecated and will be removed from pandas in a future version. Use pandas.concat instead.\n",
            "  results = results.append({\n"
          ]
        }
      ]
    },
    {
      "cell_type": "markdown",
      "source": [
        "Note: Output folder contains text files after stopwords removal from the nltk library, as specified for the word count."
      ],
      "metadata": {
        "id": "TRU_EkE2niO1"
      }
    },
    {
      "cell_type": "code",
      "source": [
        "import nltk\n",
        "nltk.download('punkt')"
      ],
      "metadata": {
        "colab": {
          "base_uri": "https://localhost:8080/"
        },
        "id": "2qnzVKxAKfxy",
        "outputId": "99f9089b-85a7-4e56-e068-da997c06b6d6"
      },
      "execution_count": null,
      "outputs": [
        {
          "output_type": "stream",
          "name": "stderr",
          "text": [
            "[nltk_data] Downloading package punkt to /root/nltk_data...\n",
            "[nltk_data]   Unzipping tokenizers/punkt.zip.\n"
          ]
        },
        {
          "output_type": "execute_result",
          "data": {
            "text/plain": [
              "True"
            ]
          },
          "metadata": {},
          "execution_count": 12
        }
      ]
    },
    {
      "cell_type": "code",
      "source": [
        "  import nltk\n",
        "  nltk.download('stopwords')"
      ],
      "metadata": {
        "colab": {
          "base_uri": "https://localhost:8080/"
        },
        "id": "A4dPxoEUaNgf",
        "outputId": "62a2427c-0982-423a-afc2-134bc18633a6"
      },
      "execution_count": null,
      "outputs": [
        {
          "output_type": "stream",
          "name": "stderr",
          "text": [
            "[nltk_data] Downloading package stopwords to /root/nltk_data...\n",
            "[nltk_data]   Unzipping corpora/stopwords.zip.\n"
          ]
        },
        {
          "output_type": "execute_result",
          "data": {
            "text/plain": [
              "True"
            ]
          },
          "metadata": {},
          "execution_count": 24
        }
      ]
    },
    {
      "cell_type": "code",
      "source": [
        "from oauth2client.client import GoogleCredentials\n",
        "gauth.credentials = GoogleCredentials.get_application_default()\n"
      ],
      "metadata": {
        "id": "P8vRr7sgi0XR"
      },
      "execution_count": null,
      "outputs": []
    },
    {
      "cell_type": "markdown",
      "source": [
        "\n",
        "\n",
        "---\n",
        "**Performing readability analysis on the txt files and storing the metrics into a csv file.**\n"
      ],
      "metadata": {
        "id": "OKmIpAlfkNoQ"
      }
    },
    {
      "cell_type": "code",
      "source": [
        "import os\n",
        "import csv\n",
        "import string\n",
        "import nltk\n",
        "import glob\n",
        "from textstat import flesch_reading_ease\n",
        "from nltk.corpus import stopwords\n",
        "from nltk.tokenize import sent_tokenize, word_tokenize\n",
        "nltk.download('stopwords')\n",
        "\n",
        "# Function to calculate the average sentence length\n",
        "def avg_sentence_length(text):\n",
        "    sentences = sent_tokenize(text)\n",
        "    words = word_tokenize(text)\n",
        "    return len(words) / len(sentences)\n",
        "\n",
        "# Function to calculate the percentage of complex words\n",
        "def percent_complex_words(text):\n",
        "    words = word_tokenize(text)\n",
        "    complex_words = [word for word in words if len(word) > 2 and word not in stopwords.words('english')]\n",
        "    return len(complex_words) / len(words)\n",
        "\n",
        "# Function to calculate the Fog Index\n",
        "def fog_index(text):\n",
        "    return 0.4 * (avg_sentence_length(text) + percent_complex_words(text))\n",
        "\n",
        "# Function to calculate the average number of words per sentence\n",
        "def avg_words_per_sentence(text):\n",
        "    words = word_tokenize(text)\n",
        "    sentences = sent_tokenize(text)\n",
        "    return len(words) / len(sentences)\n",
        "\n",
        "# Function to count the number of complex words\n",
        "def complex_word_count(text):\n",
        "    words = word_tokenize(text)\n",
        "    complex_words = [word for word in words if len(word) > 2 and word not in stopwords.words('english')]\n",
        "    return len(complex_words)\n",
        "\n",
        "# Function to count the total number of words\n",
        "def word_count(text):\n",
        "    words = word_tokenize(text)\n",
        "    cleaned_words = [word.lower().translate(str.maketrans('', '', string.punctuation)) for word in words if word not in stopwords.words('english')]\n",
        "    return len(cleaned_words)\n",
        "\n",
        "# Function to count the number of syllables in each word\n",
        "def syllable_count(word):\n",
        "    vowels = 'aeiou'\n",
        "    syllables = 0\n",
        "    if word[0] in vowels:\n",
        "        syllables += 1\n",
        "    for i in range(1, len(word)):\n",
        "        if word[i] in vowels and word[i-1] not in vowels:\n",
        "            syllables += 1\n",
        "        # Handle exceptions\n",
        "        if word.endswith('es') or word.endswith('ed'):\n",
        "            syllables -= 1\n",
        "        if word.endswith('le') and word[-2] not in vowels:\n",
        "            syllables += 1\n",
        "    # Handle single letter words\n",
        "    if len(word) == 1:\n",
        "        syllables = 1\n",
        "    return syllables\n",
        "\n",
        "\n",
        "\n",
        "# Function to calculate the average word length\n",
        "def avg_word_length(text):\n",
        "    words = word_tokenize(text)\n",
        "    total_characters = sum(len(word) for word in words)\n",
        "    return total_characters / len(words)\n",
        "\n",
        "\n",
        "\n",
        "\n",
        "def personal_pronouns(text):\n",
        "    count = 0\n",
        "    personal_pronouns_ = ['I', 'we', 'my', 'our', 'ours', 'us','We', 'My', 'Our', 'Ours', 'Us']\n",
        "    for word in text.split():\n",
        "        if word in personal_pronouns_:\n",
        "            count += 1\n",
        "    return count\n",
        "\n",
        "stop_words = set(stopwords.words('english'))\n",
        "folder_path = os.path.abspath('/content/drive/MyDrive/URL_ID')\n",
        "\n"
      ],
      "metadata": {
        "colab": {
          "base_uri": "https://localhost:8080/"
        },
        "id": "VCMmBkubrJns",
        "outputId": "3750bf50-7710-4017-bc21-550b68661420"
      },
      "execution_count": null,
      "outputs": [
        {
          "output_type": "stream",
          "name": "stderr",
          "text": [
            "[nltk_data] Downloading package stopwords to /root/nltk_data...\n",
            "[nltk_data]   Package stopwords is already up-to-date!\n"
          ]
        }
      ]
    },
    {
      "cell_type": "code",
      "source": [
        "with open('results4.csv', mode='w', newline='') as file:\n",
        "    writer = csv.writer(file)\n",
        "    writer.writerow(['Filename', 'Avg Sentence Length', 'Percentage of Complex Words', 'FOG Index', 'Avg Number of Words per Sentence', 'Complex Word Count', 'Word Count', 'Syllables per Word', 'Personal Pronouns', 'Avg Word Length'])\n",
        "\n",
        "    files = glob.glob(os.path.join(folder_path, '*.txt'))\n",
        "    for filename in files:\n",
        "        print(filename)\n",
        "        with open(filename, 'r') as f:\n",
        "            text = f.read()\n",
        "            sentences = nltk.sent_tokenize(text)\n",
        "            total_words = len(nltk.word_tokenize(text))\n",
        "            total_sentences = len(sentences)\n",
        "            total_syllables = 0\n",
        "            complex_word_count = 0\n",
        "            personal_pronouns_ = personal_pronouns(text)\n",
        "            for word in nltk.word_tokenize(text):\n",
        "                if word not in stop_words and not word.isnumeric():\n",
        "                    if len(word) > 2 and syllable_count(word) > 2:\n",
        "                        complex_word_count += 1\n",
        "                    total_syllables += syllable_count(word)\n",
        "            avg_sen_len = total_words / total_sentences\n",
        "            per_complex_words = complex_word_count / total_words\n",
        "            fog_index = 0.4 * (avg_sen_len + per_complex_words)\n",
        "            avg_words_per_sen = total_words / total_sentences\n",
        "            word_count = len([word for word in nltk.word_tokenize(text) if word not in stop_words and not word.isnumeric() and word.isalpha()])\n",
        "            syllables_per_word = total_syllables / word_count\n",
        "            avg_word_len = sum(len(word) for word in nltk.word_tokenize(text) if word not in stop_words and not word.isnumeric() and word.isalpha()) / word_count\n",
        "            writer.writerow([filename, round(avg_sen_len, 2), round(per_complex_words * 100, 2), round(fog_index, 2), round(avg_words_per_sen, 2), complex_word_count, word_count, round(syllables_per_word, 2), personal_pronouns_, round(avg_word_len, 2)])\n",
        "            \n",
        "            print(f\"File {filename} completed.\")\n"
      ],
      "metadata": {
        "colab": {
          "base_uri": "https://localhost:8080/"
        },
        "id": "jQJbk8nl0QTt",
        "outputId": "20cc495c-e3fc-4ff4-e3c3-015f47605df1"
      },
      "execution_count": null,
      "outputs": [
        {
          "output_type": "stream",
          "name": "stdout",
          "text": [
            "/content/drive/MyDrive/URL_ID/37.txt\n",
            "File /content/drive/MyDrive/URL_ID/37.txt completed.\n",
            "/content/drive/MyDrive/URL_ID/38.txt\n",
            "File /content/drive/MyDrive/URL_ID/38.txt completed.\n",
            "/content/drive/MyDrive/URL_ID/39.txt\n",
            "File /content/drive/MyDrive/URL_ID/39.txt completed.\n",
            "/content/drive/MyDrive/URL_ID/40.txt\n",
            "File /content/drive/MyDrive/URL_ID/40.txt completed.\n",
            "/content/drive/MyDrive/URL_ID/41.txt\n",
            "File /content/drive/MyDrive/URL_ID/41.txt completed.\n",
            "/content/drive/MyDrive/URL_ID/42.txt\n",
            "File /content/drive/MyDrive/URL_ID/42.txt completed.\n",
            "/content/drive/MyDrive/URL_ID/43.txt\n",
            "File /content/drive/MyDrive/URL_ID/43.txt completed.\n",
            "/content/drive/MyDrive/URL_ID/44.txt\n",
            "File /content/drive/MyDrive/URL_ID/44.txt completed.\n",
            "/content/drive/MyDrive/URL_ID/45.txt\n",
            "File /content/drive/MyDrive/URL_ID/45.txt completed.\n",
            "/content/drive/MyDrive/URL_ID/46.txt\n",
            "File /content/drive/MyDrive/URL_ID/46.txt completed.\n",
            "/content/drive/MyDrive/URL_ID/47.txt\n",
            "File /content/drive/MyDrive/URL_ID/47.txt completed.\n",
            "/content/drive/MyDrive/URL_ID/48.txt\n",
            "File /content/drive/MyDrive/URL_ID/48.txt completed.\n",
            "/content/drive/MyDrive/URL_ID/49.txt\n",
            "File /content/drive/MyDrive/URL_ID/49.txt completed.\n",
            "/content/drive/MyDrive/URL_ID/50.txt\n",
            "File /content/drive/MyDrive/URL_ID/50.txt completed.\n",
            "/content/drive/MyDrive/URL_ID/51.txt\n",
            "File /content/drive/MyDrive/URL_ID/51.txt completed.\n",
            "/content/drive/MyDrive/URL_ID/52.txt\n",
            "File /content/drive/MyDrive/URL_ID/52.txt completed.\n",
            "/content/drive/MyDrive/URL_ID/53.txt\n",
            "File /content/drive/MyDrive/URL_ID/53.txt completed.\n",
            "/content/drive/MyDrive/URL_ID/54.txt\n",
            "File /content/drive/MyDrive/URL_ID/54.txt completed.\n",
            "/content/drive/MyDrive/URL_ID/55.txt\n",
            "File /content/drive/MyDrive/URL_ID/55.txt completed.\n",
            "/content/drive/MyDrive/URL_ID/56.txt\n",
            "File /content/drive/MyDrive/URL_ID/56.txt completed.\n",
            "/content/drive/MyDrive/URL_ID/57.txt\n",
            "File /content/drive/MyDrive/URL_ID/57.txt completed.\n",
            "/content/drive/MyDrive/URL_ID/58.txt\n",
            "File /content/drive/MyDrive/URL_ID/58.txt completed.\n",
            "/content/drive/MyDrive/URL_ID/59.txt\n",
            "File /content/drive/MyDrive/URL_ID/59.txt completed.\n",
            "/content/drive/MyDrive/URL_ID/60.txt\n",
            "File /content/drive/MyDrive/URL_ID/60.txt completed.\n",
            "/content/drive/MyDrive/URL_ID/61.txt\n",
            "File /content/drive/MyDrive/URL_ID/61.txt completed.\n",
            "/content/drive/MyDrive/URL_ID/62.txt\n",
            "File /content/drive/MyDrive/URL_ID/62.txt completed.\n",
            "/content/drive/MyDrive/URL_ID/63.txt\n",
            "File /content/drive/MyDrive/URL_ID/63.txt completed.\n",
            "/content/drive/MyDrive/URL_ID/64.txt\n",
            "File /content/drive/MyDrive/URL_ID/64.txt completed.\n",
            "/content/drive/MyDrive/URL_ID/65.txt\n",
            "File /content/drive/MyDrive/URL_ID/65.txt completed.\n",
            "/content/drive/MyDrive/URL_ID/66.txt\n",
            "File /content/drive/MyDrive/URL_ID/66.txt completed.\n",
            "/content/drive/MyDrive/URL_ID/67.txt\n",
            "File /content/drive/MyDrive/URL_ID/67.txt completed.\n",
            "/content/drive/MyDrive/URL_ID/68.txt\n",
            "File /content/drive/MyDrive/URL_ID/68.txt completed.\n",
            "/content/drive/MyDrive/URL_ID/69.txt\n",
            "File /content/drive/MyDrive/URL_ID/69.txt completed.\n",
            "/content/drive/MyDrive/URL_ID/70.txt\n",
            "File /content/drive/MyDrive/URL_ID/70.txt completed.\n",
            "/content/drive/MyDrive/URL_ID/71.txt\n",
            "File /content/drive/MyDrive/URL_ID/71.txt completed.\n",
            "/content/drive/MyDrive/URL_ID/72.txt\n",
            "File /content/drive/MyDrive/URL_ID/72.txt completed.\n",
            "/content/drive/MyDrive/URL_ID/73.txt\n",
            "File /content/drive/MyDrive/URL_ID/73.txt completed.\n",
            "/content/drive/MyDrive/URL_ID/74.txt\n",
            "File /content/drive/MyDrive/URL_ID/74.txt completed.\n",
            "/content/drive/MyDrive/URL_ID/75.txt\n",
            "File /content/drive/MyDrive/URL_ID/75.txt completed.\n",
            "/content/drive/MyDrive/URL_ID/76.txt\n",
            "File /content/drive/MyDrive/URL_ID/76.txt completed.\n",
            "/content/drive/MyDrive/URL_ID/77.txt\n",
            "File /content/drive/MyDrive/URL_ID/77.txt completed.\n",
            "/content/drive/MyDrive/URL_ID/78.txt\n",
            "File /content/drive/MyDrive/URL_ID/78.txt completed.\n",
            "/content/drive/MyDrive/URL_ID/79.txt\n",
            "File /content/drive/MyDrive/URL_ID/79.txt completed.\n",
            "/content/drive/MyDrive/URL_ID/80.txt\n",
            "File /content/drive/MyDrive/URL_ID/80.txt completed.\n",
            "/content/drive/MyDrive/URL_ID/81.txt\n",
            "File /content/drive/MyDrive/URL_ID/81.txt completed.\n",
            "/content/drive/MyDrive/URL_ID/82.txt\n",
            "File /content/drive/MyDrive/URL_ID/82.txt completed.\n",
            "/content/drive/MyDrive/URL_ID/83.txt\n",
            "File /content/drive/MyDrive/URL_ID/83.txt completed.\n",
            "/content/drive/MyDrive/URL_ID/84.txt\n",
            "File /content/drive/MyDrive/URL_ID/84.txt completed.\n",
            "/content/drive/MyDrive/URL_ID/85.txt\n",
            "File /content/drive/MyDrive/URL_ID/85.txt completed.\n",
            "/content/drive/MyDrive/URL_ID/86.txt\n",
            "File /content/drive/MyDrive/URL_ID/86.txt completed.\n",
            "/content/drive/MyDrive/URL_ID/87.txt\n",
            "File /content/drive/MyDrive/URL_ID/87.txt completed.\n",
            "/content/drive/MyDrive/URL_ID/88.txt\n",
            "File /content/drive/MyDrive/URL_ID/88.txt completed.\n",
            "/content/drive/MyDrive/URL_ID/89.txt\n",
            "File /content/drive/MyDrive/URL_ID/89.txt completed.\n",
            "/content/drive/MyDrive/URL_ID/90.txt\n",
            "File /content/drive/MyDrive/URL_ID/90.txt completed.\n",
            "/content/drive/MyDrive/URL_ID/91.txt\n",
            "File /content/drive/MyDrive/URL_ID/91.txt completed.\n",
            "/content/drive/MyDrive/URL_ID/92.txt\n",
            "File /content/drive/MyDrive/URL_ID/92.txt completed.\n",
            "/content/drive/MyDrive/URL_ID/93.txt\n",
            "File /content/drive/MyDrive/URL_ID/93.txt completed.\n",
            "/content/drive/MyDrive/URL_ID/94.txt\n",
            "File /content/drive/MyDrive/URL_ID/94.txt completed.\n",
            "/content/drive/MyDrive/URL_ID/95.txt\n",
            "File /content/drive/MyDrive/URL_ID/95.txt completed.\n",
            "/content/drive/MyDrive/URL_ID/96.txt\n",
            "File /content/drive/MyDrive/URL_ID/96.txt completed.\n",
            "/content/drive/MyDrive/URL_ID/97.txt\n",
            "File /content/drive/MyDrive/URL_ID/97.txt completed.\n",
            "/content/drive/MyDrive/URL_ID/98.txt\n",
            "File /content/drive/MyDrive/URL_ID/98.txt completed.\n",
            "/content/drive/MyDrive/URL_ID/99.txt\n",
            "File /content/drive/MyDrive/URL_ID/99.txt completed.\n",
            "/content/drive/MyDrive/URL_ID/100.txt\n",
            "File /content/drive/MyDrive/URL_ID/100.txt completed.\n",
            "/content/drive/MyDrive/URL_ID/101.txt\n",
            "File /content/drive/MyDrive/URL_ID/101.txt completed.\n",
            "/content/drive/MyDrive/URL_ID/102.txt\n",
            "File /content/drive/MyDrive/URL_ID/102.txt completed.\n",
            "/content/drive/MyDrive/URL_ID/103.txt\n",
            "File /content/drive/MyDrive/URL_ID/103.txt completed.\n",
            "/content/drive/MyDrive/URL_ID/104.txt\n",
            "File /content/drive/MyDrive/URL_ID/104.txt completed.\n",
            "/content/drive/MyDrive/URL_ID/105.txt\n",
            "File /content/drive/MyDrive/URL_ID/105.txt completed.\n",
            "/content/drive/MyDrive/URL_ID/106.txt\n",
            "File /content/drive/MyDrive/URL_ID/106.txt completed.\n",
            "/content/drive/MyDrive/URL_ID/107.txt\n",
            "File /content/drive/MyDrive/URL_ID/107.txt completed.\n",
            "/content/drive/MyDrive/URL_ID/108.txt\n",
            "File /content/drive/MyDrive/URL_ID/108.txt completed.\n",
            "/content/drive/MyDrive/URL_ID/109.txt\n",
            "File /content/drive/MyDrive/URL_ID/109.txt completed.\n",
            "/content/drive/MyDrive/URL_ID/110.txt\n",
            "File /content/drive/MyDrive/URL_ID/110.txt completed.\n",
            "/content/drive/MyDrive/URL_ID/111.txt\n",
            "File /content/drive/MyDrive/URL_ID/111.txt completed.\n",
            "/content/drive/MyDrive/URL_ID/112.txt\n",
            "File /content/drive/MyDrive/URL_ID/112.txt completed.\n",
            "/content/drive/MyDrive/URL_ID/113.txt\n",
            "File /content/drive/MyDrive/URL_ID/113.txt completed.\n",
            "/content/drive/MyDrive/URL_ID/114.txt\n",
            "File /content/drive/MyDrive/URL_ID/114.txt completed.\n",
            "/content/drive/MyDrive/URL_ID/115.txt\n",
            "File /content/drive/MyDrive/URL_ID/115.txt completed.\n",
            "/content/drive/MyDrive/URL_ID/116.txt\n",
            "File /content/drive/MyDrive/URL_ID/116.txt completed.\n",
            "/content/drive/MyDrive/URL_ID/117.txt\n",
            "File /content/drive/MyDrive/URL_ID/117.txt completed.\n",
            "/content/drive/MyDrive/URL_ID/118.txt\n",
            "File /content/drive/MyDrive/URL_ID/118.txt completed.\n",
            "/content/drive/MyDrive/URL_ID/119.txt\n",
            "File /content/drive/MyDrive/URL_ID/119.txt completed.\n",
            "/content/drive/MyDrive/URL_ID/120.txt\n",
            "File /content/drive/MyDrive/URL_ID/120.txt completed.\n",
            "/content/drive/MyDrive/URL_ID/121.txt\n",
            "File /content/drive/MyDrive/URL_ID/121.txt completed.\n",
            "/content/drive/MyDrive/URL_ID/122.txt\n",
            "File /content/drive/MyDrive/URL_ID/122.txt completed.\n",
            "/content/drive/MyDrive/URL_ID/123.txt\n",
            "File /content/drive/MyDrive/URL_ID/123.txt completed.\n",
            "/content/drive/MyDrive/URL_ID/124.txt\n",
            "File /content/drive/MyDrive/URL_ID/124.txt completed.\n",
            "/content/drive/MyDrive/URL_ID/125.txt\n",
            "File /content/drive/MyDrive/URL_ID/125.txt completed.\n",
            "/content/drive/MyDrive/URL_ID/126.txt\n",
            "File /content/drive/MyDrive/URL_ID/126.txt completed.\n",
            "/content/drive/MyDrive/URL_ID/127.txt\n",
            "File /content/drive/MyDrive/URL_ID/127.txt completed.\n",
            "/content/drive/MyDrive/URL_ID/128.txt\n",
            "File /content/drive/MyDrive/URL_ID/128.txt completed.\n",
            "/content/drive/MyDrive/URL_ID/129.txt\n",
            "File /content/drive/MyDrive/URL_ID/129.txt completed.\n",
            "/content/drive/MyDrive/URL_ID/130.txt\n",
            "File /content/drive/MyDrive/URL_ID/130.txt completed.\n",
            "/content/drive/MyDrive/URL_ID/131.txt\n",
            "File /content/drive/MyDrive/URL_ID/131.txt completed.\n",
            "/content/drive/MyDrive/URL_ID/132.txt\n",
            "File /content/drive/MyDrive/URL_ID/132.txt completed.\n",
            "/content/drive/MyDrive/URL_ID/133.txt\n",
            "File /content/drive/MyDrive/URL_ID/133.txt completed.\n",
            "/content/drive/MyDrive/URL_ID/134.txt\n",
            "File /content/drive/MyDrive/URL_ID/134.txt completed.\n",
            "/content/drive/MyDrive/URL_ID/135.txt\n",
            "File /content/drive/MyDrive/URL_ID/135.txt completed.\n",
            "/content/drive/MyDrive/URL_ID/136.txt\n",
            "File /content/drive/MyDrive/URL_ID/136.txt completed.\n",
            "/content/drive/MyDrive/URL_ID/137.txt\n",
            "File /content/drive/MyDrive/URL_ID/137.txt completed.\n",
            "/content/drive/MyDrive/URL_ID/138.txt\n",
            "File /content/drive/MyDrive/URL_ID/138.txt completed.\n",
            "/content/drive/MyDrive/URL_ID/139.txt\n",
            "File /content/drive/MyDrive/URL_ID/139.txt completed.\n",
            "/content/drive/MyDrive/URL_ID/140.txt\n",
            "File /content/drive/MyDrive/URL_ID/140.txt completed.\n",
            "/content/drive/MyDrive/URL_ID/141.txt\n",
            "File /content/drive/MyDrive/URL_ID/141.txt completed.\n",
            "/content/drive/MyDrive/URL_ID/142.txt\n",
            "File /content/drive/MyDrive/URL_ID/142.txt completed.\n",
            "/content/drive/MyDrive/URL_ID/143.txt\n",
            "File /content/drive/MyDrive/URL_ID/143.txt completed.\n",
            "/content/drive/MyDrive/URL_ID/144.txt\n",
            "File /content/drive/MyDrive/URL_ID/144.txt completed.\n",
            "/content/drive/MyDrive/URL_ID/145.txt\n",
            "File /content/drive/MyDrive/URL_ID/145.txt completed.\n",
            "/content/drive/MyDrive/URL_ID/146.txt\n",
            "File /content/drive/MyDrive/URL_ID/146.txt completed.\n",
            "/content/drive/MyDrive/URL_ID/147.txt\n",
            "File /content/drive/MyDrive/URL_ID/147.txt completed.\n",
            "/content/drive/MyDrive/URL_ID/148.txt\n",
            "File /content/drive/MyDrive/URL_ID/148.txt completed.\n",
            "/content/drive/MyDrive/URL_ID/149.txt\n",
            "File /content/drive/MyDrive/URL_ID/149.txt completed.\n",
            "/content/drive/MyDrive/URL_ID/150.txt\n",
            "File /content/drive/MyDrive/URL_ID/150.txt completed.\n"
          ]
        }
      ]
    },
    {
      "cell_type": "code",
      "source": [
        "for filename in files:\n",
        "  print(1)"
      ],
      "metadata": {
        "id": "grxAHLlj0fkD"
      },
      "execution_count": null,
      "outputs": []
    },
    {
      "cell_type": "code",
      "source": [
        "!pip install textstat"
      ],
      "metadata": {
        "colab": {
          "base_uri": "https://localhost:8080/"
        },
        "id": "cXfBrRxrtiH3",
        "outputId": "86290d1d-90f4-43a8-a8a7-9fbe1db77203"
      },
      "execution_count": null,
      "outputs": [
        {
          "output_type": "stream",
          "name": "stdout",
          "text": [
            "Looking in indexes: https://pypi.org/simple, https://us-python.pkg.dev/colab-wheels/public/simple/\n",
            "Requirement already satisfied: textstat in /usr/local/lib/python3.9/dist-packages (0.7.3)\n",
            "Requirement already satisfied: pyphen in /usr/local/lib/python3.9/dist-packages (from textstat) (0.14.0)\n"
          ]
        }
      ]
    },
    {
      "cell_type": "markdown",
      "source": [
        "**Snippet to download the result csv of readability analysis.**"
      ],
      "metadata": {
        "id": "I6n8BLUDkeJy"
      }
    },
    {
      "cell_type": "code",
      "source": [
        "from google.colab import files\n",
        "\n",
        "# replace \"results.csv\" with the name of your file\n",
        "files.download(\"results4.csv\")\n"
      ],
      "metadata": {
        "colab": {
          "base_uri": "https://localhost:8080/",
          "height": 17
        },
        "id": "S6hEvZqCtuaU",
        "outputId": "00c79e94-bf2b-41bf-f792-af3a701648f8"
      },
      "execution_count": null,
      "outputs": [
        {
          "output_type": "display_data",
          "data": {
            "text/plain": [
              "<IPython.core.display.Javascript object>"
            ],
            "application/javascript": [
              "\n",
              "    async function download(id, filename, size) {\n",
              "      if (!google.colab.kernel.accessAllowed) {\n",
              "        return;\n",
              "      }\n",
              "      const div = document.createElement('div');\n",
              "      const label = document.createElement('label');\n",
              "      label.textContent = `Downloading \"${filename}\": `;\n",
              "      div.appendChild(label);\n",
              "      const progress = document.createElement('progress');\n",
              "      progress.max = size;\n",
              "      div.appendChild(progress);\n",
              "      document.body.appendChild(div);\n",
              "\n",
              "      const buffers = [];\n",
              "      let downloaded = 0;\n",
              "\n",
              "      const channel = await google.colab.kernel.comms.open(id);\n",
              "      // Send a message to notify the kernel that we're ready.\n",
              "      channel.send({})\n",
              "\n",
              "      for await (const message of channel.messages) {\n",
              "        // Send a message to notify the kernel that we're ready.\n",
              "        channel.send({})\n",
              "        if (message.buffers) {\n",
              "          for (const buffer of message.buffers) {\n",
              "            buffers.push(buffer);\n",
              "            downloaded += buffer.byteLength;\n",
              "            progress.value = downloaded;\n",
              "          }\n",
              "        }\n",
              "      }\n",
              "      const blob = new Blob(buffers, {type: 'application/binary'});\n",
              "      const a = document.createElement('a');\n",
              "      a.href = window.URL.createObjectURL(blob);\n",
              "      a.download = filename;\n",
              "      div.appendChild(a);\n",
              "      a.click();\n",
              "      div.remove();\n",
              "    }\n",
              "  "
            ]
          },
          "metadata": {}
        },
        {
          "output_type": "display_data",
          "data": {
            "text/plain": [
              "<IPython.core.display.Javascript object>"
            ],
            "application/javascript": [
              "download(\"download_e4e3a3c9-ff53-494e-9ba3-10768e27271a\", \"results4.csv\", 9503)"
            ]
          },
          "metadata": {}
        }
      ]
    },
    {
      "cell_type": "markdown",
      "source": [
        "**Merging the csv files of sentiment analysis and preparing the final csv.**"
      ],
      "metadata": {
        "id": "vkkNViLxko3e"
      }
    },
    {
      "cell_type": "code",
      "source": [
        "# Read input.xlsx and extract the columns we want\n",
        "input_df = pd.read_excel('/content/drive/MyDrive/Input.xlsx')\n",
        "input_df = input_df[['URL_ID', 'URL']]\n",
        "\n",
        "# Read Results.csv and extract the columns we want\n",
        "results_df = pd.read_csv('/content/part1result.csv')\n",
        "results_df = results_df[['URL_ID', 'Positive Score', 'Negative Score', 'Polarity Score', 'Subjectivity Score']]\n",
        "\n",
        "# Read results2.csv and extract the columns we want\n",
        "results2_df = pd.read_csv('/content/part2result.csv')\n",
        "results2_df = results2_df[['URL_ID','Avg Sentence Length', 'Percentage of Complex Words', 'FOG Index', 'Avg Number of Words per Sentence', 'Complex Word Count', 'Word Count', 'Syllables per Word', 'Personal Pronouns', 'Avg Word Length']]\n",
        "\n",
        "# Merge the dataframes together on url_id\n",
        "merged_df = input_df.merge(results_df, on='URL_ID').merge(results2_df, on='URL_ID')\n",
        "\n",
        "# Write the final dataframe to a CSV file\n",
        "merged_df.to_csv('finalresult.csv', index=False)"
      ],
      "metadata": {
        "id": "cjXZNu4_2_gL"
      },
      "execution_count": null,
      "outputs": []
    },
    {
      "cell_type": "markdown",
      "source": [
        "**Download the final csv**"
      ],
      "metadata": {
        "id": "uaLjSyNvlNII"
      }
    },
    {
      "cell_type": "code",
      "source": [
        "files.download(\"finalresult.csv\")\n"
      ],
      "metadata": {
        "colab": {
          "base_uri": "https://localhost:8080/",
          "height": 17
        },
        "id": "PcV1f_Ky98Nn",
        "outputId": "b5c49b7d-49ac-4120-fe1b-8419302a673d"
      },
      "execution_count": null,
      "outputs": [
        {
          "output_type": "display_data",
          "data": {
            "text/plain": [
              "<IPython.core.display.Javascript object>"
            ],
            "application/javascript": [
              "\n",
              "    async function download(id, filename, size) {\n",
              "      if (!google.colab.kernel.accessAllowed) {\n",
              "        return;\n",
              "      }\n",
              "      const div = document.createElement('div');\n",
              "      const label = document.createElement('label');\n",
              "      label.textContent = `Downloading \"${filename}\": `;\n",
              "      div.appendChild(label);\n",
              "      const progress = document.createElement('progress');\n",
              "      progress.max = size;\n",
              "      div.appendChild(progress);\n",
              "      document.body.appendChild(div);\n",
              "\n",
              "      const buffers = [];\n",
              "      let downloaded = 0;\n",
              "\n",
              "      const channel = await google.colab.kernel.comms.open(id);\n",
              "      // Send a message to notify the kernel that we're ready.\n",
              "      channel.send({})\n",
              "\n",
              "      for await (const message of channel.messages) {\n",
              "        // Send a message to notify the kernel that we're ready.\n",
              "        channel.send({})\n",
              "        if (message.buffers) {\n",
              "          for (const buffer of message.buffers) {\n",
              "            buffers.push(buffer);\n",
              "            downloaded += buffer.byteLength;\n",
              "            progress.value = downloaded;\n",
              "          }\n",
              "        }\n",
              "      }\n",
              "      const blob = new Blob(buffers, {type: 'application/binary'});\n",
              "      const a = document.createElement('a');\n",
              "      a.href = window.URL.createObjectURL(blob);\n",
              "      a.download = filename;\n",
              "      div.appendChild(a);\n",
              "      a.click();\n",
              "      div.remove();\n",
              "    }\n",
              "  "
            ]
          },
          "metadata": {}
        },
        {
          "output_type": "display_data",
          "data": {
            "text/plain": [
              "<IPython.core.display.Javascript object>"
            ],
            "application/javascript": [
              "download(\"download_4f05afd1-ad91-4752-8d7f-c3c7400eb906\", \"finalresult.csv\", 19131)"
            ]
          },
          "metadata": {}
        }
      ]
    }
  ]
}